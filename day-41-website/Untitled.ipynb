{
 "cells": [
  {
   "cell_type": "markdown",
   "id": "13211cd4",
   "metadata": {},
   "source": [
    "# how does internet works?"
   ]
  },
  {
   "cell_type": "markdown",
   "id": "5fb4a299",
   "metadata": {},
   "source": [
    "Client send request to Internet Service Provider make request to Server\n",
    "Client have IP address "
   ]
  },
  {
   "cell_type": "markdown",
   "id": "91aea245",
   "metadata": {},
   "source": [
    "# how Do Website Work?"
   ]
  },
  {
   "cell_type": "markdown",
   "id": "31b5e4e1",
   "metadata": {},
   "source": [
    "Code Files: \n",
    "HTML | images, text\n",
    "CSS | design, you can create how your website will look like \n",
    "JS (javascript) | actually do something "
   ]
  },
  {
   "cell_type": "markdown",
   "id": "3118690b",
   "metadata": {},
   "source": [
    "# Introduction HTML\n",
    "HTML - Hyper Text MARKUP Language\n",
    "\n",
    "Another MARKUP languages is XML, GML etc."
   ]
  },
  {
   "cell_type": "markdown",
   "id": "b84b36be",
   "metadata": {},
   "source": [
    "# The anatomy of an HTML \n",
    "<h1> Hello World </h1>\n",
    "<br>\n",
    "<h2> \n",
    "# HTML Tables \n",
    "    to add :\n",
    "https://www.w3schools.com/tags/tryit.asp?filename=tryhtml_table_test\n",
    "    "
   ]
  },
  {
   "cell_type": "markdown",
   "id": "690c233a",
   "metadata": {},
   "source": [
    "# CSS - Cascading Style Sheets\n",
    "- Style your HTML XML page \n",
    "Lets start. Inside of <body> add =\"background-color: blue;\"\n",
    "    \n",
    "    Check website mdn web docs or nice https://colorhunt.co/ and copy \"#FFC300\" code of color \n",
    "    via module \"pogments\" in atom you can see whats color you chosen "
   ]
  },
  {
   "cell_type": "markdown",
   "id": "18e8b793",
   "metadata": {},
   "source": [
    "# Internal CSS\n",
    "<hr> is horizontal rule\n",
    "# External CSS \n",
    " - for that we need to create new folder\n",
    "    "
   ]
  },
  {
   "cell_type": "markdown",
   "id": "fd737764",
   "metadata": {},
   "source": [
    "# < table >\n",
    "- after table goes to tr tabel row and than td "
   ]
  },
  {
   "cell_type": "markdown",
   "id": "2441fedb",
   "metadata": {},
   "source": [
    "- If you want to make 2 columns. Please check BIO on profile and You will see how everything is works"
   ]
  },
  {
   "cell_type": "code",
   "execution_count": null,
   "id": "84f397c7",
   "metadata": {},
   "outputs": [],
   "source": []
  }
 ],
 "metadata": {
  "kernelspec": {
   "display_name": "Python 3 (ipykernel)",
   "language": "python",
   "name": "python3"
  },
  "language_info": {
   "codemirror_mode": {
    "name": "ipython",
    "version": 3
   },
   "file_extension": ".py",
   "mimetype": "text/x-python",
   "name": "python",
   "nbconvert_exporter": "python",
   "pygments_lexer": "ipython3",
   "version": "3.9.5"
  }
 },
 "nbformat": 4,
 "nbformat_minor": 5
}
