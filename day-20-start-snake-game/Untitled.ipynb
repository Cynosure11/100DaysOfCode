{
 "cells": [
  {
   "cell_type": "code",
   "execution_count": 17,
   "id": "c21eaaaa",
   "metadata": {},
   "outputs": [
    {
     "name": "stdout",
     "output_type": "stream",
     "text": [
      "['c', 'e']\n"
     ]
    }
   ],
   "source": [
    "piano_keys = [\"a\", \"b\", \"c\", \"d\", \"e\", \"f\", \"g\"]\n",
    "print(piano_keys[2:5:2])"
   ]
  },
  {
   "cell_type": "code",
   "execution_count": 20,
   "id": "117f2034",
   "metadata": {},
   "outputs": [
    {
     "name": "stdout",
     "output_type": "stream",
     "text": [
      "['do', 're', 'mi', 'fa', 'so', 'la', 'ti']\n"
     ]
    }
   ],
   "source": [
    "piano_tuple = [\"do\", \"re\", \"mi\", \"fa\", \"so\", \"la\", \"ti\"]\n",
    "print(piano_tuple[0:])"
   ]
  },
  {
   "cell_type": "code",
   "execution_count": null,
   "id": "b1ef2f38",
   "metadata": {},
   "outputs": [],
   "source": []
  }
 ],
 "metadata": {
  "kernelspec": {
   "display_name": "Python 3 (ipykernel)",
   "language": "python",
   "name": "python3"
  },
  "language_info": {
   "codemirror_mode": {
    "name": "ipython",
    "version": 3
   },
   "file_extension": ".py",
   "mimetype": "text/x-python",
   "name": "python",
   "nbconvert_exporter": "python",
   "pygments_lexer": "ipython3",
   "version": "3.9.5"
  }
 },
 "nbformat": 4,
 "nbformat_minor": 5
}
